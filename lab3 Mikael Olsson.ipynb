{
 "cells": [
  {
   "cell_type": "markdown",
   "metadata": {},
   "source": [
    "# GMI23G Logic and Mathematics for Computer Science\n",
    "## Dalarna University, spring 2022\n",
    "\n",
    "# Python Lab 3/4\n",
    "### Hard deadline: March 13, 2022, 23:59 CET time\n",
    "### Late submission will not be accepted\n",
    "\n",
    "### Student name: Mikael Olsson\n",
    "### DU email address: ---------"
   ]
  },
  {
   "cell_type": "markdown",
   "metadata": {},
   "source": [
    "To pass the lab, you will need to write and hand in this Jupyter Notebook with your comments and your Python code added to it. Describe what you did and what conclusions you have been able to make. Try to relate to the theoretical material on the course. Use Markdown cells to add descriptions in English. Also add comments to your Python code cells.\n",
    "\n",
    "Submit the lab to Learn with file name format “labX firstname lastname studentid.rar”, e.g., “lab2 sven svensson v21abcde.rar”, with both the .ipynb file and the corresponding .pdf file compressed into one .rar file. There is an option to download the notebook in .pdf format in the File menu."
   ]
  },
  {
   "cell_type": "markdown",
   "metadata": {},
   "source": [
    "## Task 1"
   ]
  },
  {
   "cell_type": "markdown",
   "metadata": {},
   "source": [
    "Write a method that takes two sets, $A$ and $B$, of integers as inputs and returns the Cartesian product of these two sets. Print the Cartesian product of sets $A = \\{37, 5, 84, 387, 534, 346, 34\\}$ and $B = \\{99, 45, 84, 453, 34, 546\\}$."
   ]
  },
  {
   "cell_type": "markdown",
   "metadata": {},
   "source": [
    "Enter your comments on how you solved the task here (in English): First I put them numbers into sets. I then used nested for loops to first iterate of the first set, and for every single number in the first set I looped over all the numbers in the second set. This gives the cartesian product.\n"
   ]
  },
  {
   "cell_type": "code",
   "execution_count": 17,
   "metadata": {},
   "outputs": [
    {
     "name": "stdout",
     "output_type": "stream",
     "text": [
      "This is set A: {34, 387, 5, 37, 84, 534, 346}\n",
      "This is set B: {34, 99, 546, 453, 45, 84}\n",
      "\n",
      "Step \t(A,B)\n",
      "1\t(34,34)\n",
      "2\t(34,99)\n",
      "3\t(34,546)\n",
      "4\t(34,453)\n",
      "5\t(34,45)\n",
      "6\t(34,84)\n",
      "7\t(387,34)\n",
      "8\t(387,99)\n",
      "9\t(387,546)\n",
      "10\t(387,453)\n",
      "11\t(387,45)\n",
      "12\t(387,84)\n",
      "13\t(5,34)\n",
      "14\t(5,99)\n",
      "15\t(5,546)\n",
      "16\t(5,453)\n",
      "17\t(5,45)\n",
      "18\t(5,84)\n",
      "19\t(37,34)\n",
      "20\t(37,99)\n",
      "21\t(37,546)\n",
      "22\t(37,453)\n",
      "23\t(37,45)\n",
      "24\t(37,84)\n",
      "25\t(84,34)\n",
      "26\t(84,99)\n",
      "27\t(84,546)\n",
      "28\t(84,453)\n",
      "29\t(84,45)\n",
      "30\t(84,84)\n",
      "31\t(534,34)\n",
      "32\t(534,99)\n",
      "33\t(534,546)\n",
      "34\t(534,453)\n",
      "35\t(534,45)\n",
      "36\t(534,84)\n",
      "37\t(346,34)\n",
      "38\t(346,99)\n",
      "39\t(346,546)\n",
      "40\t(346,453)\n",
      "41\t(346,45)\n",
      "42\t(346,84)\n"
     ]
    }
   ],
   "source": [
    "a = [37,5,84,387,534,346,34]\n",
    "b = [99,45,84,453,34,546]\n",
    "A = set(a)\n",
    "B = set(b)\n",
    "print(f'This is set A: {A}')\n",
    "print(f'This is set B: {B}')\n",
    "print()\n",
    "def cartprod(A,B):\n",
    "    counter = 1\n",
    "    print(f'Step \\t(A,B)')\n",
    "    for i in A:\n",
    "        k = i\n",
    "        for i in B:\n",
    "            print(f'{counter}\\t({k},{i})')\n",
    "            counter += 1\n",
    "cartprod(A,B)"
   ]
  },
  {
   "cell_type": "markdown",
   "metadata": {},
   "source": [
    "Analyse your solution here (in English): Since set B has 6 number and set A has 7 numbers, the total amount of pairs should be 6*7=42 and since that is what I got I consider the problem solved."
   ]
  },
  {
   "cell_type": "markdown",
   "metadata": {},
   "source": [
    "## Task 2"
   ]
  },
  {
   "cell_type": "markdown",
   "metadata": {},
   "source": [
    "Write a code, using SageMath function, to print all $3$-combinations, of set $A = \\{1,3,4,5,6,7\\}$\n",
    "\n",
    "*Here, k=3\n",
    "\n",
    "Also print the Cardinality of the set (containing sets with length $3$) .\n"
   ]
  },
  {
   "cell_type": "code",
   "execution_count": 28,
   "metadata": {},
   "outputs": [
    {
     "name": "stdout",
     "output_type": "stream",
     "text": [
      "Priting all combinations:\n",
      "Step \tCombinations\n",
      "1\t[1, 3, 4]\n",
      "2\t[1, 3, 5]\n",
      "3\t[1, 3, 6]\n",
      "4\t[1, 3, 7]\n",
      "5\t[1, 4, 5]\n",
      "6\t[1, 4, 6]\n",
      "7\t[1, 4, 7]\n",
      "8\t[1, 5, 6]\n",
      "9\t[1, 5, 7]\n",
      "10\t[1, 6, 7]\n",
      "11\t[3, 4, 5]\n",
      "12\t[3, 4, 6]\n",
      "13\t[3, 4, 7]\n",
      "14\t[3, 5, 6]\n",
      "15\t[3, 5, 7]\n",
      "16\t[3, 6, 7]\n",
      "17\t[4, 5, 6]\n",
      "18\t[4, 5, 7]\n",
      "19\t[4, 6, 7]\n",
      "20\t[5, 6, 7]\n",
      "Cardinality is: 20\n"
     ]
    }
   ],
   "source": [
    "a = [1,3,4,5,6,7]\n",
    "A = set(a)\n",
    "print(f'Priting all combinations:')\n",
    "combs = Combinations(A,3)\n",
    "counter = 1\n",
    "print(f'Step \\tCombinations')\n",
    "for i in combs:\n",
    "    print(f'{counter}\\t{i}')\n",
    "    counter += 1\n",
    "card = combs.cardinality()\n",
    "print(f'Cardinality is: {card}')"
   ]
  },
  {
   "cell_type": "markdown",
   "metadata": {},
   "source": [
    "Analyse your solution here (in English): The sagemath function gave me every possible single combination with only 3 numbers. We can also see that the cardinality is 20, meaning that we have 20 different combinations as shown by both the step counter and the usage of the cardinality function in sagemath. "
   ]
  },
  {
   "cell_type": "markdown",
   "metadata": {},
   "source": [
    "## Task 3"
   ]
  },
  {
   "cell_type": "markdown",
   "metadata": {},
   "source": [
    "Construct a set with the following constraint:  $A:$ {${(i,j) | 1≤j<i<5}$}"
   ]
  },
  {
   "cell_type": "code",
   "execution_count": 9,
   "metadata": {},
   "outputs": [
    {
     "name": "stdout",
     "output_type": "stream",
     "text": [
      "[(2, 1), (3, 1), (4, 1), (3, 2), (4, 2), (4, 3)]\n"
     ]
    }
   ],
   "source": [
    "def setConstraint():\n",
    "    a = []\n",
    "    for i in range(5):\n",
    "        j = i\n",
    "        for i in range(5):\n",
    "            if 5 > i and i > j and j >= 1:\n",
    "                a.append((i,j))\n",
    "    return a\n",
    "\n",
    "print(setConstraint())"
   ]
  },
  {
   "cell_type": "markdown",
   "metadata": {},
   "source": [
    "Analyze your solution here: I've constructed a set where every possible combination is shown given the constraints, I first tried to do it with code and then confirmed by doing it by hand and I believe this is the correct solution."
   ]
  },
  {
   "cell_type": "markdown",
   "metadata": {},
   "source": [
    "## Task 4"
   ]
  },
  {
   "cell_type": "markdown",
   "metadata": {},
   "source": [
    "Write a method that returns the number of integers $\\{x\\}$ in set $A$ for which $\\gcd(x,n)=1$, when $A=\\{1,2,3,...,n-1,n\\}$ and $x\\in A$. Show that your function works for $n=221$ as in gcd1counter(221)=192 should hold. You can directly utilize the gcd function in Python's math library, but you must write a for loop to check for each $x$ individually."
   ]
  },
  {
   "cell_type": "markdown",
   "metadata": {},
   "source": [
    "Enter your comments on how you solved the task here (in English): First I thought of a way to get the set based on n, this was very similar to the previous problems I solved in this lab. At first I didn't really understand the question but after some thinking I realized what it was asking, so what I'm supposed to do is loop through every number in the set and the the gcd of the number and n. So if n = 221 then I would write it as gcd(x,221) where x is every number in the set.\n"
   ]
  },
  {
   "cell_type": "code",
   "execution_count": 47,
   "metadata": {},
   "outputs": [
    {
     "name": "stdout",
     "output_type": "stream",
     "text": [
      "192\n"
     ]
    }
   ],
   "source": [
    "def gcd1counter(n):\n",
    "    a = []\n",
    "    for i in range(n):\n",
    "        a.append(i+1)\n",
    "        \n",
    "    A = set(a)\n",
    "    counter = 0\n",
    "    \n",
    "    for x in A:\n",
    "        f = gcd(x,n)\n",
    "        if f == 1:\n",
    "            counter += 1\n",
    "    return counter\n",
    "    \n",
    "print(gcd1counter(221))"
   ]
  },
  {
   "cell_type": "markdown",
   "metadata": {},
   "source": [
    "Analyse your solution here (in English): The result is what is within expected parameters and I doubt there's much more to say than that."
   ]
  }
 ],
 "metadata": {
  "kernelspec": {
   "display_name": "SageMath 9.3",
   "language": "sage",
   "name": "sagemath"
  },
  "language_info": {
   "codemirror_mode": {
    "name": "ipython",
    "version": 3
   },
   "file_extension": ".py",
   "mimetype": "text/x-python",
   "name": "python",
   "nbconvert_exporter": "python",
   "pygments_lexer": "ipython3",
   "version": "3.7.10"
  }
 },
 "nbformat": 4,
 "nbformat_minor": 4
}
